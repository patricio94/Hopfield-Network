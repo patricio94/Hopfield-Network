{
 "cells": [
  {
   "cell_type": "code",
   "execution_count": null,
   "id": "d844d461",
   "metadata": {},
   "outputs": [],
   "source": [
    "import numpy as np\n",
    "import matplotlib.pyplot as plt"
   ]
  },
  {
   "cell_type": "markdown",
   "id": "619319c1",
   "metadata": {},
   "source": [
    "# 데이터 생성 및 초기 설정"
   ]
  },
  {
   "cell_type": "code",
   "execution_count": null,
   "id": "95ef8946",
   "metadata": {},
   "outputs": [],
   "source": [
    "data_num=10\n",
    "data_len=100\n",
    "distance=10\n",
    "pattern_data=[]\n",
    "polarization_pattern_data=[]\n",
    "for i in range(data_num):\n",
    "    data=np.random.randint(0,2,size=data_len)\n",
    "    pattern_data.append(np.array(data).reshape(1,data_len))\n",
    "    polarization_pattern_data.append(np.array(2*data-1).reshape(1,data_len))\n"
   ]
  },
  {
   "cell_type": "markdown",
   "id": "39477c14",
   "metadata": {},
   "source": [
    "# 홉필드 네트워크 구현"
   ]
  },
  {
   "cell_type": "code",
   "execution_count": null,
   "id": "4f4d5563",
   "metadata": {},
   "outputs": [],
   "source": [
    "class HopfieldNetwork:\n",
    "    def __init__(self):\n",
    "        self.t = np.array([0]*data_len*data_len).reshape(data_len,data_len)\n",
    "\n",
    "    def learn_t(self, polarization_pattern_data):\n",
    "        for i in range(data_num):\n",
    "            self.t=self.t+np.dot(polarization_pattern_data[i].transpose(),polarization_pattern_data[i])\n",
    "        self.t=self.t-np.identity(data_len)*data_num\n",
    "        \n",
    "\n",
    "    def noise_generator(self,distance, pattern_data):\n",
    "        noise_v=pattern_data[0].copy()\n",
    "        for i in range(distance):\n",
    "            noise_index=np.random.randint(0,data_len)\n",
    "            noise_v[0][noise_index]=(noise_v[0][noise_index]-1)*(-1)\n",
    "        return noise_v   \n",
    "                           \n",
    "    def evaluate(self,noise_v,pattern_data):\n",
    "        count=0\n",
    "        energy_list=[]\n",
    "        for i in range(data_len):\n",
    "            if noise_v[0][i]==pattern_data[0][0][i]:\n",
    "                count+=1\n",
    "        for i in range(data_num):\n",
    "            energy=self.energy_evaluation(pattern_data[i])\n",
    "            energy_list.append(energy)\n",
    "        noise_energy=self.energy_evaluation(noise_v)\n",
    "        distinction=noise_energy-energy_list[0]\n",
    "       \n",
    "        return count, distinction\n",
    "    \n",
    "    def energy_evaluation(self,data):\n",
    "        energy=(-0.5)*np.dot(np.dot(data,self.t),data.transpose())[0][0]\n",
    "        \n",
    "        return energy\n",
    "                           \n",
    "    def lenrn_hopfield(self ,pattern_data,polarization_pattern_data, time):\n",
    "        \n",
    "        self.learn_t(polarization_pattern_data)\n",
    "        \n",
    "        noise_v=self.noise_generator(distance,pattern_data)\n",
    "        time_list=[]\n",
    "        count_list=[]\n",
    "        distinction_list=[]\n",
    "        for i in range(time):\n",
    "            time_list.append(i)\n",
    "            random_index=np.random.randint(0,data_len)\n",
    "            tv=np.dot(self.t,noise_v.transpose())\n",
    "            if tv[random_index][0]>=0:\n",
    "                noise_v[0][random_index]=1\n",
    "            elif tv[random_index][0]< 0:\n",
    "                noise_v[0][random_index]=0\n",
    "            count,distinction=self.evaluate(noise_v,pattern_data)\n",
    "            count_list.append(data_len-count)\n",
    "            distinction_list.append(distinction)\n",
    "            if count==data_len:\n",
    "                break\n",
    "    \n",
    "\n",
    "        plt.plot(time_list,count_list)\n",
    "        plt.xlabel(\"time\")\n",
    "        plt.ylabel(\"distance\")\n",
    "        plt.show()\n",
    "        plt.plot(time_list,distinction_list)\n",
    "        plt.xlabel(\"time\")\n",
    "        plt.ylabel(\"energy distinction\")\n",
    "        plt.show()\n",
    "            "
   ]
  },
  {
   "cell_type": "markdown",
   "id": "2eb21e1e",
   "metadata": {},
   "source": [
    "# 코드 실행"
   ]
  },
  {
   "cell_type": "code",
   "execution_count": null,
   "id": "a7ecf5fb",
   "metadata": {},
   "outputs": [],
   "source": [
    "run=HopfieldNetwork()"
   ]
  },
  {
   "cell_type": "code",
   "execution_count": null,
   "id": "f9d213d6",
   "metadata": {},
   "outputs": [],
   "source": [
    "run.lenrn_hopfield(pattern_data,polarization_pattern_data,1000)"
   ]
  }
 ],
 "metadata": {
  "kernelspec": {
   "display_name": "Python 3",
   "language": "python",
   "name": "python3"
  },
  "language_info": {
   "codemirror_mode": {
    "name": "ipython",
    "version": 3
   },
   "file_extension": ".py",
   "mimetype": "text/x-python",
   "name": "python",
   "nbconvert_exporter": "python",
   "pygments_lexer": "ipython3",
   "version": "3.8.8"
  }
 },
 "nbformat": 4,
 "nbformat_minor": 5
}
